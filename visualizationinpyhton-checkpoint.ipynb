{
 "cells": [
  {
   "cell_type": "code",
   "execution_count": 6,
   "id": "5fffb608",
   "metadata": {},
   "outputs": [
    {
     "name": "stdout",
     "output_type": "stream",
     "text": [
      "           0\n",
      "0      apple\n",
      "1      mango\n",
      "2     banana\n",
      "3  painapple\n"
     ]
    }
   ],
   "source": [
    "import pandas as pd\n",
    "\n",
    "list = ['apple','mango','banana','painapple']\n",
    "df = pd.DataFrame(list) \n",
    "print(df)"
   ]
  },
  {
   "cell_type": "code",
   "execution_count": 3,
   "id": "6b772288",
   "metadata": {},
   "outputs": [
    {
     "data": {
      "text/html": [
       "<div>\n",
       "<style scoped>\n",
       "    .dataframe tbody tr th:only-of-type {\n",
       "        vertical-align: middle;\n",
       "    }\n",
       "\n",
       "    .dataframe tbody tr th {\n",
       "        vertical-align: top;\n",
       "    }\n",
       "\n",
       "    .dataframe thead th {\n",
       "        text-align: right;\n",
       "    }\n",
       "</style>\n",
       "<table border=\"1\" class=\"dataframe\">\n",
       "  <thead>\n",
       "    <tr style=\"text-align: right;\">\n",
       "      <th></th>\n",
       "      <th>Product</th>\n",
       "      <th>Customer</th>\n",
       "      <th>Qtr 1</th>\n",
       "      <th>Qtr 2</th>\n",
       "      <th>Qtr 3</th>\n",
       "      <th>Qtr 4</th>\n",
       "    </tr>\n",
       "  </thead>\n",
       "  <tbody>\n",
       "    <tr>\n",
       "      <th>0</th>\n",
       "      <td>Alice Mutton</td>\n",
       "      <td>ANTON</td>\n",
       "      <td>$-</td>\n",
       "      <td>$702.00</td>\n",
       "      <td>$-</td>\n",
       "      <td>$-</td>\n",
       "    </tr>\n",
       "    <tr>\n",
       "      <th>1</th>\n",
       "      <td>Alice Mutton</td>\n",
       "      <td>BERGS</td>\n",
       "      <td>$312.00</td>\n",
       "      <td>$-</td>\n",
       "      <td>$-</td>\n",
       "      <td>$-</td>\n",
       "    </tr>\n",
       "    <tr>\n",
       "      <th>2</th>\n",
       "      <td>Alice Mutton</td>\n",
       "      <td>BOLID</td>\n",
       "      <td>$-</td>\n",
       "      <td>$-</td>\n",
       "      <td>$-</td>\n",
       "      <td>$1,170.00</td>\n",
       "    </tr>\n",
       "    <tr>\n",
       "      <th>3</th>\n",
       "      <td>Alice Mutton</td>\n",
       "      <td>BOTTM</td>\n",
       "      <td>$1,170.00</td>\n",
       "      <td>$-</td>\n",
       "      <td>$-</td>\n",
       "      <td>$-</td>\n",
       "    </tr>\n",
       "    <tr>\n",
       "      <th>4</th>\n",
       "      <td>Alice Mutton</td>\n",
       "      <td>ERNSH</td>\n",
       "      <td>$1,123.20</td>\n",
       "      <td>$-</td>\n",
       "      <td>$-</td>\n",
       "      <td>$2,607.15</td>\n",
       "    </tr>\n",
       "    <tr>\n",
       "      <th>5</th>\n",
       "      <td>Alice Mutton</td>\n",
       "      <td>GODOS</td>\n",
       "      <td>$-</td>\n",
       "      <td>$280.80</td>\n",
       "      <td>$-</td>\n",
       "      <td>$-</td>\n",
       "    </tr>\n",
       "    <tr>\n",
       "      <th>6</th>\n",
       "      <td>Alice Mutton</td>\n",
       "      <td>HUNGC</td>\n",
       "      <td>$62.40</td>\n",
       "      <td>$-</td>\n",
       "      <td>$-</td>\n",
       "      <td>$-</td>\n",
       "    </tr>\n",
       "    <tr>\n",
       "      <th>7</th>\n",
       "      <td>Alice Mutton</td>\n",
       "      <td>PICCO</td>\n",
       "      <td>$-</td>\n",
       "      <td>$1,560.00</td>\n",
       "      <td>$936.00</td>\n",
       "      <td>$-</td>\n",
       "    </tr>\n",
       "    <tr>\n",
       "      <th>8</th>\n",
       "      <td>Alice Mutton</td>\n",
       "      <td>RATTC</td>\n",
       "      <td>$-</td>\n",
       "      <td>$592.80</td>\n",
       "      <td>$-</td>\n",
       "      <td>$-</td>\n",
       "    </tr>\n",
       "    <tr>\n",
       "      <th>9</th>\n",
       "      <td>Alice Mutton</td>\n",
       "      <td>REGGC</td>\n",
       "      <td>$-</td>\n",
       "      <td>$-</td>\n",
       "      <td>$-</td>\n",
       "      <td>$741.00</td>\n",
       "    </tr>\n",
       "  </tbody>\n",
       "</table>\n",
       "</div>"
      ],
      "text/plain": [
       "        Product Customer        Qtr 1        Qtr 2      Qtr 3        Qtr 4\n",
       "0  Alice Mutton    ANTON        $-        $702.00       $-           $-   \n",
       "1  Alice Mutton    BERGS     $312.00         $-         $-           $-   \n",
       "2  Alice Mutton    BOLID        $-           $-         $-      $1,170.00 \n",
       "3  Alice Mutton    BOTTM   $1,170.00         $-         $-           $-   \n",
       "4  Alice Mutton    ERNSH   $1,123.20         $-         $-      $2,607.15 \n",
       "5  Alice Mutton    GODOS        $-        $280.80       $-           $-   \n",
       "6  Alice Mutton    HUNGC      $62.40         $-         $-           $-   \n",
       "7  Alice Mutton    PICCO        $-      $1,560.00    $936.00         $-   \n",
       "8  Alice Mutton    RATTC        $-        $592.80       $-           $-   \n",
       "9  Alice Mutton    REGGC        $-           $-         $-        $741.00 "
      ]
     },
     "metadata": {},
     "output_type": "display_data"
    }
   ],
   "source": [
    "import pandas as pd\n",
    "\n",
    "\n",
    "# reading the database\n",
    "data = pd.read_csv(\"Sales1.csv\")\n",
    "\n",
    "# printing the top 10 rows\n",
    "display(data.head(10))\n"
   ]
  },
  {
   "cell_type": "code",
   "execution_count": 13,
   "id": "3f9f0fcf",
   "metadata": {},
   "outputs": [
    {
     "data": {
      "text/html": [
       "<div>\n",
       "<style scoped>\n",
       "    .dataframe tbody tr th:only-of-type {\n",
       "        vertical-align: middle;\n",
       "    }\n",
       "\n",
       "    .dataframe tbody tr th {\n",
       "        vertical-align: top;\n",
       "    }\n",
       "\n",
       "    .dataframe thead th {\n",
       "        text-align: right;\n",
       "    }\n",
       "</style>\n",
       "<table border=\"1\" class=\"dataframe\">\n",
       "  <thead>\n",
       "    <tr style=\"text-align: right;\">\n",
       "      <th></th>\n",
       "      <th>Product</th>\n",
       "      <th>Customer</th>\n",
       "      <th>Qtr 1</th>\n",
       "      <th>Qtr 2</th>\n",
       "      <th>Qtr 3</th>\n",
       "      <th>Qtr 4</th>\n",
       "    </tr>\n",
       "  </thead>\n",
       "  <tbody>\n",
       "    <tr>\n",
       "      <th>0</th>\n",
       "      <td>Alice Mutton</td>\n",
       "      <td>ANTON</td>\n",
       "      <td>$-</td>\n",
       "      <td>$702.00</td>\n",
       "      <td>$-</td>\n",
       "      <td>$-</td>\n",
       "    </tr>\n",
       "    <tr>\n",
       "      <th>1</th>\n",
       "      <td>Alice Mutton</td>\n",
       "      <td>BERGS</td>\n",
       "      <td>$312.00</td>\n",
       "      <td>$-</td>\n",
       "      <td>$-</td>\n",
       "      <td>$-</td>\n",
       "    </tr>\n",
       "    <tr>\n",
       "      <th>2</th>\n",
       "      <td>Alice Mutton</td>\n",
       "      <td>BOLID</td>\n",
       "      <td>$-</td>\n",
       "      <td>$-</td>\n",
       "      <td>$-</td>\n",
       "      <td>$1,170.00</td>\n",
       "    </tr>\n",
       "    <tr>\n",
       "      <th>3</th>\n",
       "      <td>Alice Mutton</td>\n",
       "      <td>BOTTM</td>\n",
       "      <td>$1,170.00</td>\n",
       "      <td>$-</td>\n",
       "      <td>$-</td>\n",
       "      <td>$-</td>\n",
       "    </tr>\n",
       "    <tr>\n",
       "      <th>4</th>\n",
       "      <td>Alice Mutton</td>\n",
       "      <td>ERNSH</td>\n",
       "      <td>$1,123.20</td>\n",
       "      <td>$-</td>\n",
       "      <td>$-</td>\n",
       "      <td>$2,607.15</td>\n",
       "    </tr>\n",
       "    <tr>\n",
       "      <th>5</th>\n",
       "      <td>Alice Mutton</td>\n",
       "      <td>GODOS</td>\n",
       "      <td>$-</td>\n",
       "      <td>$280.80</td>\n",
       "      <td>$-</td>\n",
       "      <td>$-</td>\n",
       "    </tr>\n",
       "    <tr>\n",
       "      <th>6</th>\n",
       "      <td>Alice Mutton</td>\n",
       "      <td>HUNGC</td>\n",
       "      <td>$62.40</td>\n",
       "      <td>$-</td>\n",
       "      <td>$-</td>\n",
       "      <td>$-</td>\n",
       "    </tr>\n",
       "    <tr>\n",
       "      <th>7</th>\n",
       "      <td>Alice Mutton</td>\n",
       "      <td>PICCO</td>\n",
       "      <td>$-</td>\n",
       "      <td>$1,560.00</td>\n",
       "      <td>$936.00</td>\n",
       "      <td>$-</td>\n",
       "    </tr>\n",
       "    <tr>\n",
       "      <th>8</th>\n",
       "      <td>Alice Mutton</td>\n",
       "      <td>RATTC</td>\n",
       "      <td>$-</td>\n",
       "      <td>$592.80</td>\n",
       "      <td>$-</td>\n",
       "      <td>$-</td>\n",
       "    </tr>\n",
       "    <tr>\n",
       "      <th>9</th>\n",
       "      <td>Alice Mutton</td>\n",
       "      <td>REGGC</td>\n",
       "      <td>$-</td>\n",
       "      <td>$-</td>\n",
       "      <td>$-</td>\n",
       "      <td>$741.00</td>\n",
       "    </tr>\n",
       "  </tbody>\n",
       "</table>\n",
       "</div>"
      ],
      "text/plain": [
       "        Product Customer        Qtr 1        Qtr 2      Qtr 3        Qtr 4\n",
       "0  Alice Mutton    ANTON        $-        $702.00       $-           $-   \n",
       "1  Alice Mutton    BERGS     $312.00         $-         $-           $-   \n",
       "2  Alice Mutton    BOLID        $-           $-         $-      $1,170.00 \n",
       "3  Alice Mutton    BOTTM   $1,170.00         $-         $-           $-   \n",
       "4  Alice Mutton    ERNSH   $1,123.20         $-         $-      $2,607.15 \n",
       "5  Alice Mutton    GODOS        $-        $280.80       $-           $-   \n",
       "6  Alice Mutton    HUNGC      $62.40         $-         $-           $-   \n",
       "7  Alice Mutton    PICCO        $-      $1,560.00    $936.00         $-   \n",
       "8  Alice Mutton    RATTC        $-        $592.80       $-           $-   \n",
       "9  Alice Mutton    REGGC        $-           $-         $-        $741.00 "
      ]
     },
     "metadata": {},
     "output_type": "display_data"
    },
    {
     "data": {
      "image/png": "[encoded data removed]",
      "text/plain": [
       "<Figure size 640x480 with 1 Axes>"
      ]
     },
     "metadata": {},
     "output_type": "display_data"
    }
   ],
   "source": [
    "import pandas as pd\n",
    "import matplotlib.pyplot as plt\n",
    "\n",
    "\n",
    "# reading the database\n",
    "data = pd.read_csv(\"cs.csv\")\n",
    "display(data.head(10))\n",
    "\n",
    "# Scatter plot with day against tip\n",
    "plt.scatter(data['Qtr 2'], data['Customer'])\n",
    "\n",
    "# Adding Title to the Plot\n",
    "plt.title(\"Scatter Plot\")\n",
    "\n",
    "# Setting the X and Y labels\n",
    "plt.xlabel('Qtr 2')\n",
    "plt.ylabel('Customer')\n",
    "\n",
    "plt.show()\n"
   ]
  },
  {
   "cell_type": "code",
   "execution_count": 17,
   "id": "5b2130e8",
   "metadata": {},
   "outputs": [
    {
     "data": {
      "image/png": "[encoded data removed]",
      "text/plain": [
       "<Figure size 640x480 with 1 Axes>"
      ]
     },
     "metadata": {},
     "output_type": "display_data"
    }
   ],
   "source": [
    "import pandas as pd\n",
    "import matplotlib.pyplot as plt\n",
    "\n",
    "\n",
    "# reading the database\n",
    "data = pd.read_csv(\"cs.csv\")\n",
    "\n",
    "# Scatter plot with day against tip\n",
    "plt.plot(data['Product'])\n",
    "plt.plot(data['Customer'])\n",
    "\n",
    "# Adding Title to the Plot\n",
    "plt.title(\"Scatter Plot\")\n",
    "\n",
    "# Setting the X and Y labels\n",
    "plt.xlabel('Product')\n",
    "plt.ylabel('Customer')\n",
    "\n",
    "plt.show()\n",
    "\n"
   ]
  },
  {
   "cell_type": "code",
   "execution_count": 3,
   "id": "28ae5662",
   "metadata": {},
   "outputs": [
    {
     "data": {
      "image/png": "[encoded data removed]",
      "text/plain": [
       "<Figure size 640x480 with 1 Axes>"
      ]
     },
     "metadata": {},
     "output_type": "display_data"
    }
   ],
   "source": [
    "import pandas as pd\n",
    "import matplotlib.pyplot as plt\n",
    "\n",
    "\n",
    "# reading the database\n",
    "data = pd.read_csv(\"cs.csv\")\n",
    "\n",
    "# Bar chart with day against tip\n",
    "plt.bar(data['Customer'], data['Qtr 4'])\n",
    "\n",
    "plt.title(\"Bar Chart\")\n",
    "\n",
    "# Setting the X and Y labels\n",
    "plt.xlabel('Qtr 4')\n",
    "plt.ylabel('Customer')\n",
    "\n",
    "# Adding the legends\n",
    "plt.show()\n"
   ]
  },
  {
   "cell_type": "code",
   "execution_count": 7,
   "id": "dd99e15e",
   "metadata": {},
   "outputs": [
    {
     "data": {
      "image/png": "[encoded data removed]",
      "text/plain": [
       "<Figure size 640x480 with 1 Axes>"
      ]
     },
     "metadata": {},
     "output_type": "display_data"
    }
   ],
   "source": [
    "import pandas as pd\n",
    "import matplotlib.pyplot as plt\n",
    "\n",
    "\n",
    "# reading the database\n",
    "data = pd.read_csv(\"cs.csv\")\n",
    "\n",
    "# Bar chart with day against tip\n",
    "plt.bar(data['Customer'], data['Qtr 4'])\n",
    "\n",
    "plt.title(\"Pi chart\")\n",
    "\n",
    "# Setting the X and Y labels\n",
    "plt.xlabel('Qtr 4')\n",
    "plt.ylabel('Customer')\n",
    "\n",
    "# Adding the legends\n",
    "plt.show()\n"
   ]
  },
  {
   "cell_type": "code",
   "execution_count": 2,
   "id": "9cb41232",
   "metadata": {
    "scrolled": true
   },
   "outputs": [
    {
     "data": {
      "image/png": "[encoded data removed]",
      "text/plain": [
       "<Figure size 640x480 with 1 Axes>"
      ]
     },
     "metadata": {},
     "output_type": "display_data"
    }
   ],
   "source": [
    "# importing packages\n",
    "import seaborn as sns\n",
    "import matplotlib.pyplot as plt\n",
    "import pandas as pd\n",
    "\n",
    "\n",
    "# reading the database\n",
    "data = pd.read_csv(\"boston.csv\")\n",
    "\n",
    "sns.histplot(x='age', data=data, kde=True, hue='rad')\n",
    "\n",
    "plt.show()\n"
   ]
  },
  {
   "cell_type": "code",
   "execution_count": 4,
   "id": "a835490d",
   "metadata": {},
   "outputs": [
    {
     "data": {
      "image/png": "[encoded data removed]",
      "text/plain": [
       "<Figure size 640x480 with 1 Axes>"
      ]
     },
     "metadata": {},
     "output_type": "display_data"
    }
   ],
   "source": [
    "# importing packages\n",
    "import seaborn as sns\n",
    "import matplotlib.pyplot as plt\n",
    "import pandas as pd\n",
    "\n",
    "\n",
    "# reading the database\n",
    "data = pd.read_csv(\"boston.csv\")\n",
    "\n",
    "# using only data attribute\n",
    "sns.lineplot(data=data.drop(['age'], axis=1))\n",
    "plt.show()\n"
   ]
  },
  {
   "cell_type": "code",
   "execution_count": 5,
   "id": "cde433d6",
   "metadata": {},
   "outputs": [
    {
     "name": "stderr",
     "output_type": "stream",
     "text": [
      "BokehUserWarning: ColumnDataSource's columns must be of the same length. Current lengths: ('line_color', 256), ('x', 506), ('y', 506)\n",
      "BokehUserWarning: ColumnDataSource's columns must be of the same length. Current lengths: ('fill_color', 256), ('line_color', 256), ('x', 506), ('y', 506)\n",
      "BokehUserWarning: ColumnDataSource's columns must be of the same length. Current lengths: ('fill_color', 256), ('hatch_color', 256), ('line_color', 256), ('x', 506), ('y', 506)\n"
     ]
    }
   ],
   "source": [
    "# importing the modules\n",
    "from bokeh.plotting import figure, output_file, show\n",
    "from bokeh.palettes import magma\n",
    "import pandas as pd\n",
    "\n",
    "\n",
    "# instantiating the figure object\n",
    "graph = figure(title = \"Bokeh Scatter Graph\")\n",
    "\n",
    "# reading the database\n",
    "data = pd.read_csv(\"boston.csv\")\n",
    "\n",
    "color = magma(256)\n",
    "\n",
    "# plotting the graph\n",
    "graph.scatter(data['age'], data['rad'], color=color)\n",
    "\n",
    "# displaying the model\n",
    "show(graph)\n"
   ]
  },
  {
   "cell_type": "code",
   "execution_count": 6,
   "id": "42872bf9",
   "metadata": {},
   "outputs": [],
   "source": [
    "# importing the modules\n",
    "from bokeh.plotting import figure, output_file, show\n",
    "import pandas as pd\n",
    "\n",
    "\n",
    "# instantiating the figure object\n",
    "graph = figure(title = \"Bokeh Bar Chart\")\n",
    "\n",
    "# reading the database\n",
    "data = pd.read_csv(\"boston.csv\")\n",
    "\n",
    "# plotting the graph\n",
    "graph.vbar(data['age'], top=data['rad'],\n",
    "\t\tlegend_label = \"age VS rad\", color='yellow')\n",
    "\n",
    "graph.vbar(data['age'], top=data['tax'],\n",
    "\t\tlegend_label = \"age VS tax\", color='red')\n",
    "\n",
    "graph.legend.click_policy = \"hide\"\n",
    "\n",
    "# displaying the model\n",
    "show(graph)\n"
   ]
  },
  {
   "cell_type": "code",
   "execution_count": 13,
   "id": "41549c5e",
   "metadata": {},
   "outputs": [],
   "source": [
    "from bokeh.io import show\n",
    "from bokeh.models import CustomJS, Slider\n",
    "\n",
    "slider = Slider(start=1, end=20, value=1, step=2, title=\"Slider\")\n",
    "\n",
    "slider.js_on_change(\"value\", CustomJS(code=\"\"\"\n",
    "\tconsole.log('slider: value=' + this.value, this.toString())\n",
    "\"\"\"))\n",
    "\n",
    "show(slider)\n"
   ]
  },
  {
   "cell_type": "code",
   "execution_count": 15,
   "id": "19d3b552",
   "metadata": {},
   "outputs": [
    {
     "data": {
      "application/vnd.plotly.v1+json": {
       "config": {
        "plotlyServerURL": "https://plot.ly"
       },
       "data": [
        {
         "mode": "markers",
         "type": "scatter",
         "x": [
          65.2,
          78.9,
          61.1,
          45.8,
          54.2,
          58.7,
          66.6,
          96.1,
          100,
          85.9,
          94.3,
          82.9,
          39,
          61.8,
          84.5,
          56.5,
          29.3,
          81.7,
          36.6,
          69.5,
          98.1,
          89.2,
          91.7,
          100,
          94.1,
          85.7,
          90.3,
          88.8,
          94.4,
          87.3,
          94.1,
          100,
          82,
          95,
          96.9,
          68.2,
          61.4,
          41.5,
          30.2,
          21.8,
          15.8,
          2.9,
          6.6,
          6.5,
          40,
          33.8,
          33.3,
          85.5,
          95.3,
          62,
          45.7,
          63,
          21.1,
          21.4,
          47.6,
          21.9,
          35.7,
          40.5,
          29.2,
          47.2,
          66.2,
          93.4,
          67.8,
          43.4,
          59.5,
          17.8,
          31.1,
          21.4,
          36.8,
          33,
          6.6,
          17.5,
          7.8,
          6.2,
          6,
          45,
          74.5,
          45.8,
          53.7,
          36.6,
          33.5,
          70.4,
          32.2,
          46.7,
          48,
          56.1,
          45.1,
          56.8,
          86.3,
          63.1,
          66.1,
          73.9,
          53.6,
          28.9,
          77.3,
          57.8,
          69.6,
          76,
          36.9,
          62.5,
          79.9,
          71.3,
          85.4,
          87.4,
          90,
          96.7,
          91.9,
          85.2,
          97.1,
          91.2,
          54.4,
          81.6,
          92.9,
          95.4,
          84.2,
          88.2,
          72.5,
          82.6,
          73.1,
          65.2,
          69.7,
          84.1,
          92.9,
          97,
          95.8,
          88.4,
          95.6,
          96,
          98.8,
          94.7,
          98.9,
          97.7,
          97.9,
          95.4,
          98.4,
          98.2,
          93.5,
          98.4,
          98.2,
          97.9,
          93.6,
          100,
          100,
          100,
          97.8,
          100,
          100,
          95.7,
          93.8,
          94.9,
          97.3,
          100,
          88,
          98.5,
          96,
          82.6,
          94,
          97.4,
          100,
          100,
          92.6,
          90.8,
          98.2,
          93.9,
          91.8,
          93,
          96.2,
          79.2,
          96.1,
          95.2,
          94.6,
          97.3,
          88.5,
          84.1,
          68.7,
          33.1,
          47.2,
          73.4,
          74.4,
          58.4,
          83.3,
          62.2,
          92.2,
          95.6,
          89.8,
          68.8,
          53.6,
          41.1,
          29.1,
          38.9,
          21.5,
          30.8,
          26.3,
          9.9,
          18.8,
          32,
          34.1,
          36.6,
          38.3,
          15.3,
          13.9,
          38.4,
          15.7,
          33.2,
          31.9,
          22.3,
          52.5,
          72.7,
          59.1,
          100,
          92.1,
          88.6,
          53.8,
          32.3,
          9.8,
          42.4,
          56,
          85.1,
          93.8,
          92.4,
          88.5,
          91.3,
          77.7,
          80.8,
          78.3,
          83,
          86.5,
          79.9,
          17,
          21.4,
          68.1,
          76.9,
          73.3,
          70.4,
          66.5,
          61.5,
          76.5,
          71.6,
          18.5,
          42.2,
          54.3,
          65.1,
          52.9,
          7.8,
          76.5,
          70.2,
          34.9,
          79.2,
          49.1,
          17.5,
          13,
          8.9,
          6.8,
          8.4,
          32,
          19.1,
          34.2,
          86.9,
          100,
          100,
          81.8,
          89.4,
          91.5,
          94.5,
          91.6,
          62.8,
          84.6,
          67,
          52.6,
          61.5,
          42.1,
          16.3,
          58.7,
          51.8,
          32.9,
          42.8,
          49,
          27.6,
          32.1,
          32.2,
          64.5,
          37.2,
          49.7,
          24.8,
          20.8,
          31.9,
          31.5,
          31.3,
          45.6,
          22.9,
          27.9,
          27.7,
          23.4,
          18.4,
          42.3,
          31.1,
          51,
          58,
          20.1,
          10,
          47.4,
          40.4,
          18.4,
          17.7,
          41.1,
          58.1,
          71.9,
          70.3,
          82.5,
          76.7,
          37.8,
          52.8,
          90.4,
          82.8,
          87.3,
          77.7,
          83.2,
          71.7,
          67.2,
          58.8,
          52.3,
          54.3,
          49.9,
          74.3,
          40.1,
          14.7,
          28.9,
          43.7,
          25.8,
          17.2,
          32.2,
          28.4,
          23.3,
          38.1,
          38.5,
          34.5,
          46.3,
          59.6,
          37.3,
          45.4,
          58.5,
          49.3,
          59.7,
          56.4,
          28.1,
          48.5,
          52.3,
          27.7,
          29.7,
          34.5,
          44.4,
          35.9,
          18.5,
          36.1,
          21.9,
          19.5,
          97.4,
          91,
          83.4,
          81.3,
          88,
          91.1,
          96.2,
          89,
          82.9,
          87.9,
          91.4,
          100,
          100,
          96.8,
          97.5,
          100,
          89.6,
          100,
          100,
          97.9,
          93.3,
          98.8,
          96.2,
          100,
          91.9,
          99.1,
          100,
          100,
          91.2,
          98.1,
          100,
          89.5,
          100,
          98.9,
          97,
          82.5,
          97,
          92.6,
          94.7,
          98.8,
          96,
          98.9,
          100,
          77.8,
          100,
          100,
          100,
          96,
          85.4,
          100,
          100,
          100,
          97.9,
          100,
          100,
          100,
          100,
          100,
          100,
          100,
          90.8,
          89.1,
          100,
          76.5,
          100,
          95.3,
          87.6,
          85.1,
          70.6,
          95.4,
          59.7,
          78.7,
          78.1,
          95.6,
          86.1,
          94.3,
          74.8,
          87.9,
          95,
          94.6,
          93.3,
          100,
          87.9,
          93.9,
          92.4,
          97.2,
          100,
          100,
          96.6,
          94.8,
          96.4,
          96.6,
          98.7,
          98.3,
          92.6,
          98.2,
          91.8,
          99.3,
          94.1,
          86.5,
          87.9,
          80.3,
          83.7,
          84.4,
          90,
          88.4,
          83,
          89.9,
          65.4,
          48.2,
          84.7,
          94.5,
          71,
          56.7,
          84,
          90.7,
          75,
          67.6,
          95.4,
          97.4,
          93.6,
          97.3,
          96.7,
          88,
          64.7,
          74.9,
          77,
          40.3,
          41.9,
          51.9,
          79.8,
          53.2,
          92.7,
          98.3,
          98,
          98.8,
          83.5,
          54,
          42.6,
          28.8,
          72.9,
          70.6,
          65.3,
          73.5,
          79.7,
          69.1,
          76.7,
          91,
          89.3,
          80.8
         ],
         "y": [
          296,
          242,
          242,
          222,
          222,
          222,
          311,
          311,
          311,
          311,
          311,
          311,
          311,
          307,
          307,
          307,
          307,
          307,
          307,
          307,
          307,
          307,
          307,
          307,
          307,
          307,
          307,
          307,
          307,
          307,
          307,
          307,
          307,
          307,
          307,
          279,
          279,
          279,
          279,
          252,
          252,
          233,
          233,
          233,
          233,
          233,
          233,
          233,
          233,
          233,
          243,
          243,
          243,
          243,
          469,
          226,
          313,
          256,
          284,
          284,
          284,
          284,
          284,
          284,
          216,
          337,
          337,
          345,
          345,
          345,
          305,
          305,
          305,
          305,
          398,
          398,
          398,
          398,
          398,
          398,
          281,
          281,
          281,
          281,
          247,
          247,
          247,
          247,
          270,
          270,
          270,
          270,
          270,
          270,
          270,
          276,
          276,
          276,
          276,
          276,
          384,
          384,
          384,
          384,
          384,
          384,
          384,
          384,
          384,
          384,
          384,
          432,
          432,
          432,
          432,
          432,
          432,
          432,
          432,
          432,
          188,
          188,
          188,
          188,
          188,
          188,
          188,
          437,
          437,
          437,
          437,
          437,
          437,
          437,
          437,
          437,
          437,
          437,
          437,
          437,
          437,
          437,
          403,
          403,
          403,
          403,
          403,
          403,
          403,
          403,
          403,
          403,
          403,
          403,
          403,
          403,
          403,
          403,
          403,
          403,
          403,
          403,
          403,
          403,
          403,
          403,
          403,
          403,
          403,
          403,
          403,
          403,
          296,
          296,
          296,
          296,
          296,
          296,
          296,
          193,
          193,
          193,
          193,
          193,
          193,
          193,
          193,
          398,
          398,
          398,
          398,
          398,
          398,
          265,
          265,
          255,
          329,
          329,
          329,
          402,
          402,
          348,
          348,
          224,
          224,
          277,
          277,
          277,
          277,
          277,
          277,
          277,
          277,
          277,
          277,
          277,
          276,
          276,
          276,
          276,
          307,
          307,
          307,
          307,
          307,
          307,
          307,
          307,
          307,
          307,
          307,
          307,
          307,
          307,
          307,
          307,
          307,
          307,
          300,
          300,
          300,
          300,
          300,
          300,
          330,
          330,
          330,
          330,
          330,
          330,
          330,
          330,
          330,
          330,
          315,
          315,
          244,
          264,
          264,
          264,
          264,
          264,
          264,
          264,
          264,
          264,
          264,
          264,
          264,
          223,
          223,
          223,
          223,
          223,
          254,
          254,
          254,
          254,
          254,
          216,
          216,
          216,
          216,
          198,
          285,
          300,
          241,
          293,
          293,
          293,
          245,
          245,
          245,
          289,
          289,
          289,
          289,
          289,
          358,
          358,
          358,
          329,
          329,
          329,
          222,
          222,
          222,
          222,
          304,
          304,
          304,
          304,
          304,
          304,
          304,
          304,
          304,
          304,
          304,
          304,
          287,
          287,
          287,
          287,
          287,
          287,
          287,
          287,
          430,
          430,
          430,
          304,
          304,
          224,
          224,
          224,
          224,
          224,
          224,
          224,
          224,
          284,
          422,
          370,
          370,
          352,
          352,
          351,
          280,
          335,
          335,
          411,
          411,
          187,
          334,
          334,
          666,
          666,
          666,
          666,
          666,
          666,
          666,
          666,
          666,
          666,
          666,
          666,
          666,
          666,
          666,
          666,
          666,
          666,
          666,
          666,
          666,
          666,
          666,
          666,
          666,
          666,
          666,
          666,
          666,
          666,
          666,
          666,
          666,
          666,
          666,
          666,
          666,
          666,
          666,
          666,
          666,
          666,
          666,
          666,
          666,
          666,
          666,
          666,
          666,
          666,
          666,
          666,
          666,
          666,
          666,
          666,
          666,
          666,
          666,
          666,
          666,
          666,
          666,
          666,
          666,
          666,
          666,
          666,
          666,
          666,
          666,
          666,
          666,
          666,
          666,
          666,
          666,
          666,
          666,
          666,
          666,
          666,
          666,
          666,
          666,
          666,
          666,
          666,
          666,
          666,
          666,
          666,
          666,
          666,
          666,
          666,
          666,
          666,
          666,
          666,
          666,
          666,
          666,
          666,
          666,
          666,
          666,
          666,
          666,
          666,
          666,
          666,
          666,
          666,
          666,
          666,
          666,
          666,
          666,
          666,
          666,
          666,
          666,
          666,
          666,
          666,
          666,
          666,
          666,
          666,
          666,
          666,
          711,
          711,
          711,
          711,
          711,
          391,
          391,
          391,
          391,
          391,
          391,
          391,
          391,
          273,
          273,
          273,
          273,
          273
         ]
        }
       ],
       "layout": {
        "template": {
         "data": {
          "bar": [
           {
            "error_x": {
             "color": "#2a3f5f"
            },
            "error_y": {
             "color": "#2a3f5f"
            },
            "marker": {
             "line": {
              "color": "#E5ECF6",
              "width": 0.5
             },
             "pattern": {
              "fillmode": "overlay",
              "size": 10,
              "solidity": 0.2
             }
            },
            "type": "bar"
           }
          ],
          "barpolar": [
           {
            "marker": {
             "line": {
              "color": "#E5ECF6",
              "width": 0.5
             },
             "pattern": {
              "fillmode": "overlay",
              "size": 10,
              "solidity": 0.2
             }
            },
            "type": "barpolar"
           }
          ],
          "carpet": [
           {
            "aaxis": {
             "endlinecolor": "#2a3f5f",
             "gridcolor": "white",
             "linecolor": "white",
             "minorgridcolor": "white",
             "startlinecolor": "#2a3f5f"
            },
            "baxis": {
             "endlinecolor": "#2a3f5f",
             "gridcolor": "white",
             "linecolor": "white",
             "minorgridcolor": "white",
             "startlinecolor": "#2a3f5f"
            },
            "type": "carpet"
           }
          ],
          "choropleth": [
           {
            "colorbar": {
             "outlinewidth": 0,
             "ticks": ""
            },
            "type": "choropleth"
           }
          ],
          "contour": [
           {
            "colorbar": {
             "outlinewidth": 0,
             "ticks": ""
            },
            "colorscale": [
             [
              0,
              "#0d0887"
             ],
             [
              0.1111111111111111,
              "#46039f"
             ],
             [
              0.2222222222222222,
              "#7201a8"
             ],
             [
              0.3333333333333333,
              "#9c179e"
             ],
             [
              0.4444444444444444,
              "#bd3786"
             ],
             [
              0.5555555555555556,
              "#d8576b"
             ],
             [
              0.6666666666666666,
              "#ed7953"
             ],
             [
              0.7777777777777778,
              "#fb9f3a"
             ],
             [
              0.8888888888888888,
              "#fdca26"
             ],
             [
              1,
              "#f0f921"
             ]
            ],
            "type": "contour"
           }
          ],
          "contourcarpet": [
           {
            "colorbar": {
             "outlinewidth": 0,
             "ticks": ""
            },
            "type": "contourcarpet"
           }
          ],
          "heatmap": [
           {
            "colorbar": {
             "outlinewidth": 0,
             "ticks": ""
            },
            "colorscale": [
             [
              0,
              "#0d0887"
             ],
             [
              0.1111111111111111,
              "#46039f"
             ],
             [
              0.2222222222222222,
              "#7201a8"
             ],
             [
              0.3333333333333333,
              "#9c179e"
             ],
             [
              0.4444444444444444,
              "#bd3786"
             ],
             [
              0.5555555555555556,
              "#d8576b"
             ],
             [
              0.6666666666666666,
              "#ed7953"
             ],
             [
              0.7777777777777778,
              "#fb9f3a"
             ],
             [
              0.8888888888888888,
              "#fdca26"
             ],
             [
              1,
              "#f0f921"
             ]
            ],
            "type": "heatmap"
           }
          ],
          "heatmapgl": [
           {
            "colorbar": {
             "outlinewidth": 0,
             "ticks": ""
            },
            "colorscale": [
             [
              0,
              "#0d0887"
             ],
             [
              0.1111111111111111,
              "#46039f"
             ],
             [
              0.2222222222222222,
              "#7201a8"
             ],
             [
              0.3333333333333333,
              "#9c179e"
             ],
             [
              0.4444444444444444,
              "#bd3786"
             ],
             [
              0.5555555555555556,
              "#d8576b"
             ],
             [
              0.6666666666666666,
              "#ed7953"
             ],
             [
              0.7777777777777778,
              "#fb9f3a"
             ],
             [
              0.8888888888888888,
              "#fdca26"
             ],
             [
              1,
              "#f0f921"
             ]
            ],
            "type": "heatmapgl"
           }
          ],
          "histogram": [
           {
            "marker": {
             "pattern": {
              "fillmode": "overlay",
              "size": 10,
              "solidity": 0.2
             }
            },
            "type": "histogram"
           }
          ],
          "histogram2d": [
           {
            "colorbar": {
             "outlinewidth": 0,
             "ticks": ""
            },
            "colorscale": [
             [
              0,
              "#0d0887"
             ],
             [
              0.1111111111111111,
              "#46039f"
             ],
             [
              0.2222222222222222,
              "#7201a8"
             ],
             [
              0.3333333333333333,
              "#9c179e"
             ],
             [
              0.4444444444444444,
              "#bd3786"
             ],
             [
              0.5555555555555556,
              "#d8576b"
             ],
             [
              0.6666666666666666,
              "#ed7953"
             ],
             [
              0.7777777777777778,
              "#fb9f3a"
             ],
             [
              0.8888888888888888,
              "#fdca26"
             ],
             [
              1,
              "#f0f921"
             ]
            ],
            "type": "histogram2d"
           }
          ],
          "histogram2dcontour": [
           {
            "colorbar": {
             "outlinewidth": 0,
             "ticks": ""
            },
            "colorscale": [
             [
              0,
              "#0d0887"
             ],
             [
              0.1111111111111111,
              "#46039f"
             ],
             [
              0.2222222222222222,
              "#7201a8"
             ],
             [
              0.3333333333333333,
              "#9c179e"
             ],
             [
              0.4444444444444444,
              "#bd3786"
             ],
             [
              0.5555555555555556,
              "#d8576b"
             ],
             [
              0.6666666666666666,
              "#ed7953"
             ],
             [
              0.7777777777777778,
              "#fb9f3a"
             ],
             [
              0.8888888888888888,
              "#fdca26"
             ],
             [
              1,
              "#f0f921"
             ]
            ],
            "type": "histogram2dcontour"
           }
          ],
          "mesh3d": [
           {
            "colorbar": {
             "outlinewidth": 0,
             "ticks": ""
            },
            "type": "mesh3d"
           }
          ],
          "parcoords": [
           {
            "line": {
             "colorbar": {
              "outlinewidth": 0,
              "ticks": ""
             }
            },
            "type": "parcoords"
           }
          ],
          "pie": [
           {
            "automargin": true,
            "type": "pie"
           }
          ],
          "scatter": [
           {
            "fillpattern": {
             "fillmode": "overlay",
             "size": 10,
             "solidity": 0.2
            },
            "type": "scatter"
           }
          ],
          "scatter3d": [
           {
            "line": {
             "colorbar": {
              "outlinewidth": 0,
              "ticks": ""
             }
            },
            "marker": {
             "colorbar": {
              "outlinewidth": 0,
              "ticks": ""
             }
            },
            "type": "scatter3d"
           }
          ],
          "scattercarpet": [
           {
            "marker": {
             "colorbar": {
              "outlinewidth": 0,
              "ticks": ""
             }
            },
            "type": "scattercarpet"
           }
          ],
          "scattergeo": [
           {
            "marker": {
             "colorbar": {
              "outlinewidth": 0,
              "ticks": ""
             }
            },
            "type": "scattergeo"
           }
          ],
          "scattergl": [
           {
            "marker": {
             "colorbar": {
              "outlinewidth": 0,
              "ticks": ""
             }
            },
            "type": "scattergl"
           }
          ],
          "scattermapbox": [
           {
            "marker": {
             "colorbar": {
              "outlinewidth": 0,
              "ticks": ""
             }
            },
            "type": "scattermapbox"
           }
          ],
          "scatterpolar": [
           {
            "marker": {
             "colorbar": {
              "outlinewidth": 0,
              "ticks": ""
             }
            },
            "type": "scatterpolar"
           }
          ],
          "scatterpolargl": [
           {
            "marker": {
             "colorbar": {
              "outlinewidth": 0,
              "ticks": ""
             }
            },
            "type": "scatterpolargl"
           }
          ],
          "scatterternary": [
           {
            "marker": {
             "colorbar": {
              "outlinewidth": 0,
              "ticks": ""
             }
            },
            "type": "scatterternary"
           }
          ],
          "surface": [
           {
            "colorbar": {
             "outlinewidth": 0,
             "ticks": ""
            },
            "colorscale": [
             [
              0,
              "#0d0887"
             ],
             [
              0.1111111111111111,
              "#46039f"
             ],
             [
              0.2222222222222222,
              "#7201a8"
             ],
             [
              0.3333333333333333,
              "#9c179e"
             ],
             [
              0.4444444444444444,
              "#bd3786"
             ],
             [
              0.5555555555555556,
              "#d8576b"
             ],
             [
              0.6666666666666666,
              "#ed7953"
             ],
             [
              0.7777777777777778,
              "#fb9f3a"
             ],
             [
              0.8888888888888888,
              "#fdca26"
             ],
             [
              1,
              "#f0f921"
             ]
            ],
            "type": "surface"
           }
          ],
          "table": [
           {
            "cells": {
             "fill": {
              "color": "#EBF0F8"
             },
             "line": {
              "color": "white"
             }
            },
            "header": {
             "fill": {
              "color": "#C8D4E3"
             },
             "line": {
              "color": "white"
             }
            },
            "type": "table"
           }
          ]
         },
         "layout": {
          "annotationdefaults": {
           "arrowcolor": "#2a3f5f",
           "arrowhead": 0,
           "arrowwidth": 1
          },
          "autotypenumbers": "strict",
          "coloraxis": {
           "colorbar": {
            "outlinewidth": 0,
            "ticks": ""
           }
          },
          "colorscale": {
           "diverging": [
            [
             0,
             "#8e0152"
            ],
            [
             0.1,
             "#c51b7d"
            ],
            [
             0.2,
             "#de77ae"
            ],
            [
             0.3,
             "#f1b6da"
            ],
            [
             0.4,
             "#fde0ef"
            ],
            [
             0.5,
             "#f7f7f7"
            ],
            [
             0.6,
             "#e6f5d0"
            ],
            [
             0.7,
             "#b8e186"
            ],
            [
             0.8,
             "#7fbc41"
            ],
            [
             0.9,
             "#4d9221"
            ],
            [
             1,
             "#276419"
            ]
           ],
           "sequential": [
            [
             0,
             "#0d0887"
            ],
            [
             0.1111111111111111,
             "#46039f"
            ],
            [
             0.2222222222222222,
             "#7201a8"
            ],
            [
             0.3333333333333333,
             "#9c179e"
            ],
            [
             0.4444444444444444,
             "#bd3786"
            ],
            [
             0.5555555555555556,
             "#d8576b"
            ],
            [
             0.6666666666666666,
             "#ed7953"
            ],
            [
             0.7777777777777778,
             "#fb9f3a"
            ],
            [
             0.8888888888888888,
             "#fdca26"
            ],
            [
             1,
             "#f0f921"
            ]
           ],
           "sequentialminus": [
            [
             0,
             "#0d0887"
            ],
            [
             0.1111111111111111,
             "#46039f"
            ],
            [
             0.2222222222222222,
             "#7201a8"
            ],
            [
             0.3333333333333333,
             "#9c179e"
            ],
            [
             0.4444444444444444,
             "#bd3786"
            ],
            [
             0.5555555555555556,
             "#d8576b"
            ],
            [
             0.6666666666666666,
             "#ed7953"
            ],
            [
             0.7777777777777778,
             "#fb9f3a"
            ],
            [
             0.8888888888888888,
             "#fdca26"
            ],
            [
             1,
             "#f0f921"
            ]
           ]
          },
          "colorway": [
           "#636efa",
           "#EF553B",
           "#00cc96",
           "#ab63fa",
           "#FFA15A",
           "#19d3f3",
           "#FF6692",
           "#B6E880",
           "#FF97FF",
           "#FECB52"
          ],
          "font": {
           "color": "#2a3f5f"
          },
          "geo": {
           "bgcolor": "white",
           "lakecolor": "white",
           "landcolor": "#E5ECF6",
           "showlakes": true,
           "showland": true,
           "subunitcolor": "white"
          },
          "hoverlabel": {
           "align": "left"
          },
          "hovermode": "closest",
          "mapbox": {
           "style": "light"
          },
          "paper_bgcolor": "white",
          "plot_bgcolor": "#E5ECF6",
          "polar": {
           "angularaxis": {
            "gridcolor": "white",
            "linecolor": "white",
            "ticks": ""
           },
           "bgcolor": "#E5ECF6",
           "radialaxis": {
            "gridcolor": "white",
            "linecolor": "white",
            "ticks": ""
           }
          },
          "scene": {
           "xaxis": {
            "backgroundcolor": "#E5ECF6",
            "gridcolor": "white",
            "gridwidth": 2,
            "linecolor": "white",
            "showbackground": true,
            "ticks": "",
            "zerolinecolor": "white"
           },
           "yaxis": {
            "backgroundcolor": "#E5ECF6",
            "gridcolor": "white",
            "gridwidth": 2,
            "linecolor": "white",
            "showbackground": true,
            "ticks": "",
            "zerolinecolor": "white"
           },
           "zaxis": {
            "backgroundcolor": "#E5ECF6",
            "gridcolor": "white",
            "gridwidth": 2,
            "linecolor": "white",
            "showbackground": true,
            "ticks": "",
            "zerolinecolor": "white"
           }
          },
          "shapedefaults": {
           "line": {
            "color": "#2a3f5f"
           }
          },
          "ternary": {
           "aaxis": {
            "gridcolor": "white",
            "linecolor": "white",
            "ticks": ""
           },
           "baxis": {
            "gridcolor": "white",
            "linecolor": "white",
            "ticks": ""
           },
           "bgcolor": "#E5ECF6",
           "caxis": {
            "gridcolor": "white",
            "linecolor": "white",
            "ticks": ""
           }
          },
          "title": {
           "x": 0.05
          },
          "xaxis": {
           "automargin": true,
           "gridcolor": "white",
           "linecolor": "white",
           "ticks": "",
           "title": {
            "standoff": 15
           },
           "zerolinecolor": "white",
           "zerolinewidth": 2
          },
          "yaxis": {
           "automargin": true,
           "gridcolor": "white",
           "linecolor": "white",
           "ticks": "",
           "title": {
            "standoff": 15
           },
           "zerolinecolor": "white",
           "zerolinewidth": 2
          }
         }
        },
        "updatemenus": [
         {
          "buttons": [
           {
            "args": [
             "type",
             "scatter"
            ],
            "label": "Scatter Plot",
            "method": "restyle"
           },
           {
            "args": [
             "type",
             "bar"
            ],
            "label": "Bar Chart",
            "method": "restyle"
           }
          ],
          "direction": "left",
          "type": "buttons"
         }
        ]
       }
      },
      "text/html": [
       "<div>                            <div id=\"7d789f27-06d7-4efb-ab1a-5b2352f93755\" class=\"plotly-graph-div\" style=\"height:525px; width:100%;\"></div>            <script type=\"text/javascript\">                require([\"plotly\"], function(Plotly) {                    window.PLOTLYENV=window.PLOTLYENV || {};                                    if (document.getElementById(\"7d789f27-06d7-4efb-ab1a-5b2352f93755\")) {                    Plotly.newPlot(                        \"7d789f27-06d7-4efb-ab1a-5b2352f93755\",                        [{\"mode\":\"markers\",\"x\":[65.2,78.9,61.1,45.8,54.2,58.7,66.6,96.1,100.0,85.9,94.3,82.9,39.0,61.8,84.5,56.5,29.3,81.7,36.6,69.5,98.1,89.2,91.7,100.0,94.1,85.7,90.3,88.8,94.4,87.3,94.1,100.0,82.0,95.0,96.9,68.2,61.4,41.5,30.2,21.8,15.8,2.9,6.6,6.5,40.0,33.8,33.3,85.5,95.3,62.0,45.7,63.0,21.1,21.4,47.6,21.9,35.7,40.5,29.2,47.2,66.2,93.4,67.8,43.4,59.5,17.8,31.1,21.4,36.8,33.0,6.6,17.5,7.8,6.2,6.0,45.0,74.5,45.8,53.7,36.6,33.5,70.4,32.2,46.7,48.0,56.1,45.1,56.8,86.3,63.1,66.1,73.9,53.6,28.9,77.3,57.8,69.6,76.0,36.9,62.5,79.9,71.3,85.4,87.4,90.0,96.7,91.9,85.2,97.1,91.2,54.4,81.6,92.9,95.4,84.2,88.2,72.5,82.6,73.1,65.2,69.7,84.1,92.9,97.0,95.8,88.4,95.6,96.0,98.8,94.7,98.9,97.7,97.9,95.4,98.4,98.2,93.5,98.4,98.2,97.9,93.6,100.0,100.0,100.0,97.8,100.0,100.0,95.7,93.8,94.9,97.3,100.0,88.0,98.5,96.0,82.6,94.0,97.4,100.0,100.0,92.6,90.8,98.2,93.9,91.8,93.0,96.2,79.2,96.1,95.2,94.6,97.3,88.5,84.1,68.7,33.1,47.2,73.4,74.4,58.4,83.3,62.2,92.2,95.6,89.8,68.8,53.6,41.1,29.1,38.9,21.5,30.8,26.3,9.9,18.8,32.0,34.1,36.6,38.3,15.3,13.9,38.4,15.7,33.2,31.9,22.3,52.5,72.7,59.1,100.0,92.1,88.6,53.8,32.3,9.8,42.4,56.0,85.1,93.8,92.4,88.5,91.3,77.7,80.8,78.3,83.0,86.5,79.9,17.0,21.4,68.1,76.9,73.3,70.4,66.5,61.5,76.5,71.6,18.5,42.2,54.3,65.1,52.9,7.8,76.5,70.2,34.9,79.2,49.1,17.5,13.0,8.9,6.8,8.4,32.0,19.1,34.2,86.9,100.0,100.0,81.8,89.4,91.5,94.5,91.6,62.8,84.6,67.0,52.6,61.5,42.1,16.3,58.7,51.8,32.9,42.8,49.0,27.6,32.1,32.2,64.5,37.2,49.7,24.8,20.8,31.9,31.5,31.3,45.6,22.9,27.9,27.7,23.4,18.4,42.3,31.1,51.0,58.0,20.1,10.0,47.4,40.4,18.4,17.7,41.1,58.1,71.9,70.3,82.5,76.7,37.8,52.8,90.4,82.8,87.3,77.7,83.2,71.7,67.2,58.8,52.3,54.3,49.9,74.3,40.1,14.7,28.9,43.7,25.8,17.2,32.2,28.4,23.3,38.1,38.5,34.5,46.3,59.6,37.3,45.4,58.5,49.3,59.7,56.4,28.1,48.5,52.3,27.7,29.7,34.5,44.4,35.9,18.5,36.1,21.9,19.5,97.4,91.0,83.4,81.3,88.0,91.1,96.2,89.0,82.9,87.9,91.4,100.0,100.0,96.8,97.5,100.0,89.6,100.0,100.0,97.9,93.3,98.8,96.2,100.0,91.9,99.1,100.0,100.0,91.2,98.1,100.0,89.5,100.0,98.9,97.0,82.5,97.0,92.6,94.7,98.8,96.0,98.9,100.0,77.8,100.0,100.0,100.0,96.0,85.4,100.0,100.0,100.0,97.9,100.0,100.0,100.0,100.0,100.0,100.0,100.0,90.8,89.1,100.0,76.5,100.0,95.3,87.6,85.1,70.6,95.4,59.7,78.7,78.1,95.6,86.1,94.3,74.8,87.9,95.0,94.6,93.3,100.0,87.9,93.9,92.4,97.2,100.0,100.0,96.6,94.8,96.4,96.6,98.7,98.3,92.6,98.2,91.8,99.3,94.1,86.5,87.9,80.3,83.7,84.4,90.0,88.4,83.0,89.9,65.4,48.2,84.7,94.5,71.0,56.7,84.0,90.7,75.0,67.6,95.4,97.4,93.6,97.3,96.7,88.0,64.7,74.9,77.0,40.3,41.9,51.9,79.8,53.2,92.7,98.3,98.0,98.8,83.5,54.0,42.6,28.8,72.9,70.6,65.3,73.5,79.7,69.1,76.7,91.0,89.3,80.8],\"y\":[296,242,242,222,222,222,311,311,311,311,311,311,311,307,307,307,307,307,307,307,307,307,307,307,307,307,307,307,307,307,307,307,307,307,307,279,279,279,279,252,252,233,233,233,233,233,233,233,233,233,243,243,243,243,469,226,313,256,284,284,284,284,284,284,216,337,337,345,345,345,305,305,305,305,398,398,398,398,398,398,281,281,281,281,247,247,247,247,270,270,270,270,270,270,270,276,276,276,276,276,384,384,384,384,384,384,384,384,384,384,384,432,432,432,432,432,432,432,432,432,188,188,188,188,188,188,188,437,437,437,437,437,437,437,437,437,437,437,437,437,437,437,403,403,403,403,403,403,403,403,403,403,403,403,403,403,403,403,403,403,403,403,403,403,403,403,403,403,403,403,403,403,296,296,296,296,296,296,296,193,193,193,193,193,193,193,193,398,398,398,398,398,398,265,265,255,329,329,329,402,402,348,348,224,224,277,277,277,277,277,277,277,277,277,277,277,276,276,276,276,307,307,307,307,307,307,307,307,307,307,307,307,307,307,307,307,307,307,300,300,300,300,300,300,330,330,330,330,330,330,330,330,330,330,315,315,244,264,264,264,264,264,264,264,264,264,264,264,264,223,223,223,223,223,254,254,254,254,254,216,216,216,216,198,285,300,241,293,293,293,245,245,245,289,289,289,289,289,358,358,358,329,329,329,222,222,222,222,304,304,304,304,304,304,304,304,304,304,304,304,287,287,287,287,287,287,287,287,430,430,430,304,304,224,224,224,224,224,224,224,224,284,422,370,370,352,352,351,280,335,335,411,411,187,334,334,666,666,666,666,666,666,666,666,666,666,666,666,666,666,666,666,666,666,666,666,666,666,666,666,666,666,666,666,666,666,666,666,666,666,666,666,666,666,666,666,666,666,666,666,666,666,666,666,666,666,666,666,666,666,666,666,666,666,666,666,666,666,666,666,666,666,666,666,666,666,666,666,666,666,666,666,666,666,666,666,666,666,666,666,666,666,666,666,666,666,666,666,666,666,666,666,666,666,666,666,666,666,666,666,666,666,666,666,666,666,666,666,666,666,666,666,666,666,666,666,666,666,666,666,666,666,666,666,666,666,666,666,711,711,711,711,711,391,391,391,391,391,391,391,391,273,273,273,273,273],\"type\":\"scatter\"}],                        {\"template\":{\"data\":{\"histogram2dcontour\":[{\"type\":\"histogram2dcontour\",\"colorbar\":{\"outlinewidth\":0,\"ticks\":\"\"},\"colorscale\":[[0.0,\"#0d0887\"],[0.1111111111111111,\"#46039f\"],[0.2222222222222222,\"#7201a8\"],[0.3333333333333333,\"#9c179e\"],[0.4444444444444444,\"#bd3786\"],[0.5555555555555556,\"#d8576b\"],[0.6666666666666666,\"#ed7953\"],[0.7777777777777778,\"#fb9f3a\"],[0.8888888888888888,\"#fdca26\"],[1.0,\"#f0f921\"]]}],\"choropleth\":[{\"type\":\"choropleth\",\"colorbar\":{\"outlinewidth\":0,\"ticks\":\"\"}}],\"histogram2d\":[{\"type\":\"histogram2d\",\"colorbar\":{\"outlinewidth\":0,\"ticks\":\"\"},\"colorscale\":[[0.0,\"#0d0887\"],[0.1111111111111111,\"#46039f\"],[0.2222222222222222,\"#7201a8\"],[0.3333333333333333,\"#9c179e\"],[0.4444444444444444,\"#bd3786\"],[0.5555555555555556,\"#d8576b\"],[0.6666666666666666,\"#ed7953\"],[0.7777777777777778,\"#fb9f3a\"],[0.8888888888888888,\"#fdca26\"],[1.0,\"#f0f921\"]]}],\"heatmap\":[{\"type\":\"heatmap\",\"colorbar\":{\"outlinewidth\":0,\"ticks\":\"\"},\"colorscale\":[[0.0,\"#0d0887\"],[0.1111111111111111,\"#46039f\"],[0.2222222222222222,\"#7201a8\"],[0.3333333333333333,\"#9c179e\"],[0.4444444444444444,\"#bd3786\"],[0.5555555555555556,\"#d8576b\"],[0.6666666666666666,\"#ed7953\"],[0.7777777777777778,\"#fb9f3a\"],[0.8888888888888888,\"#fdca26\"],[1.0,\"#f0f921\"]]}],\"heatmapgl\":[{\"type\":\"heatmapgl\",\"colorbar\":{\"outlinewidth\":0,\"ticks\":\"\"},\"colorscale\":[[0.0,\"#0d0887\"],[0.1111111111111111,\"#46039f\"],[0.2222222222222222,\"#7201a8\"],[0.3333333333333333,\"#9c179e\"],[0.4444444444444444,\"#bd3786\"],[0.5555555555555556,\"#d8576b\"],[0.6666666666666666,\"#ed7953\"],[0.7777777777777778,\"#fb9f3a\"],[0.8888888888888888,\"#fdca26\"],[1.0,\"#f0f921\"]]}],\"contourcarpet\":[{\"type\":\"contourcarpet\",\"colorbar\":{\"outlinewidth\":0,\"ticks\":\"\"}}],\"contour\":[{\"type\":\"contour\",\"colorbar\":{\"outlinewidth\":0,\"ticks\":\"\"},\"colorscale\":[[0.0,\"#0d0887\"],[0.1111111111111111,\"#46039f\"],[0.2222222222222222,\"#7201a8\"],[0.3333333333333333,\"#9c179e\"],[0.4444444444444444,\"#bd3786\"],[0.5555555555555556,\"#d8576b\"],[0.6666666666666666,\"#ed7953\"],[0.7777777777777778,\"#fb9f3a\"],[0.8888888888888888,\"#fdca26\"],[1.0,\"#f0f921\"]]}],\"surface\":[{\"type\":\"surface\",\"colorbar\":{\"outlinewidth\":0,\"ticks\":\"\"},\"colorscale\":[[0.0,\"#0d0887\"],[0.1111111111111111,\"#46039f\"],[0.2222222222222222,\"#7201a8\"],[0.3333333333333333,\"#9c179e\"],[0.4444444444444444,\"#bd3786\"],[0.5555555555555556,\"#d8576b\"],[0.6666666666666666,\"#ed7953\"],[0.7777777777777778,\"#fb9f3a\"],[0.8888888888888888,\"#fdca26\"],[1.0,\"#f0f921\"]]}],\"mesh3d\":[{\"type\":\"mesh3d\",\"colorbar\":{\"outlinewidth\":0,\"ticks\":\"\"}}],\"scatter\":[{\"fillpattern\":{\"fillmode\":\"overlay\",\"size\":10,\"solidity\":0.2},\"type\":\"scatter\"}],\"parcoords\":[{\"type\":\"parcoords\",\"line\":{\"colorbar\":{\"outlinewidth\":0,\"ticks\":\"\"}}}],\"scatterpolargl\":[{\"type\":\"scatterpolargl\",\"marker\":{\"colorbar\":{\"outlinewidth\":0,\"ticks\":\"\"}}}],\"bar\":[{\"error_x\":{\"color\":\"#2a3f5f\"},\"error_y\":{\"color\":\"#2a3f5f\"},\"marker\":{\"line\":{\"color\":\"#E5ECF6\",\"width\":0.5},\"pattern\":{\"fillmode\":\"overlay\",\"size\":10,\"solidity\":0.2}},\"type\":\"bar\"}],\"scattergeo\":[{\"type\":\"scattergeo\",\"marker\":{\"colorbar\":{\"outlinewidth\":0,\"ticks\":\"\"}}}],\"scatterpolar\":[{\"type\":\"scatterpolar\",\"marker\":{\"colorbar\":{\"outlinewidth\":0,\"ticks\":\"\"}}}],\"histogram\":[{\"marker\":{\"pattern\":{\"fillmode\":\"overlay\",\"size\":10,\"solidity\":0.2}},\"type\":\"histogram\"}],\"scattergl\":[{\"type\":\"scattergl\",\"marker\":{\"colorbar\":{\"outlinewidth\":0,\"ticks\":\"\"}}}],\"scatter3d\":[{\"type\":\"scatter3d\",\"line\":{\"colorbar\":{\"outlinewidth\":0,\"ticks\":\"\"}},\"marker\":{\"colorbar\":{\"outlinewidth\":0,\"ticks\":\"\"}}}],\"scattermapbox\":[{\"type\":\"scattermapbox\",\"marker\":{\"colorbar\":{\"outlinewidth\":0,\"ticks\":\"\"}}}],\"scatterternary\":[{\"type\":\"scatterternary\",\"marker\":{\"colorbar\":{\"outlinewidth\":0,\"ticks\":\"\"}}}],\"scattercarpet\":[{\"type\":\"scattercarpet\",\"marker\":{\"colorbar\":{\"outlinewidth\":0,\"ticks\":\"\"}}}],\"carpet\":[{\"aaxis\":{\"endlinecolor\":\"#2a3f5f\",\"gridcolor\":\"white\",\"linecolor\":\"white\",\"minorgridcolor\":\"white\",\"startlinecolor\":\"#2a3f5f\"},\"baxis\":{\"endlinecolor\":\"#2a3f5f\",\"gridcolor\":\"white\",\"linecolor\":\"white\",\"minorgridcolor\":\"white\",\"startlinecolor\":\"#2a3f5f\"},\"type\":\"carpet\"}],\"table\":[{\"cells\":{\"fill\":{\"color\":\"#EBF0F8\"},\"line\":{\"color\":\"white\"}},\"header\":{\"fill\":{\"color\":\"#C8D4E3\"},\"line\":{\"color\":\"white\"}},\"type\":\"table\"}],\"barpolar\":[{\"marker\":{\"line\":{\"color\":\"#E5ECF6\",\"width\":0.5},\"pattern\":{\"fillmode\":\"overlay\",\"size\":10,\"solidity\":0.2}},\"type\":\"barpolar\"}],\"pie\":[{\"automargin\":true,\"type\":\"pie\"}]},\"layout\":{\"autotypenumbers\":\"strict\",\"colorway\":[\"#636efa\",\"#EF553B\",\"#00cc96\",\"#ab63fa\",\"#FFA15A\",\"#19d3f3\",\"#FF6692\",\"#B6E880\",\"#FF97FF\",\"#FECB52\"],\"font\":{\"color\":\"#2a3f5f\"},\"hovermode\":\"closest\",\"hoverlabel\":{\"align\":\"left\"},\"paper_bgcolor\":\"white\",\"plot_bgcolor\":\"#E5ECF6\",\"polar\":{\"bgcolor\":\"#E5ECF6\",\"angularaxis\":{\"gridcolor\":\"white\",\"linecolor\":\"white\",\"ticks\":\"\"},\"radialaxis\":{\"gridcolor\":\"white\",\"linecolor\":\"white\",\"ticks\":\"\"}},\"ternary\":{\"bgcolor\":\"#E5ECF6\",\"aaxis\":{\"gridcolor\":\"white\",\"linecolor\":\"white\",\"ticks\":\"\"},\"baxis\":{\"gridcolor\":\"white\",\"linecolor\":\"white\",\"ticks\":\"\"},\"caxis\":{\"gridcolor\":\"white\",\"linecolor\":\"white\",\"ticks\":\"\"}},\"coloraxis\":{\"colorbar\":{\"outlinewidth\":0,\"ticks\":\"\"}},\"colorscale\":{\"sequential\":[[0.0,\"#0d0887\"],[0.1111111111111111,\"#46039f\"],[0.2222222222222222,\"#7201a8\"],[0.3333333333333333,\"#9c179e\"],[0.4444444444444444,\"#bd3786\"],[0.5555555555555556,\"#d8576b\"],[0.6666666666666666,\"#ed7953\"],[0.7777777777777778,\"#fb9f3a\"],[0.8888888888888888,\"#fdca26\"],[1.0,\"#f0f921\"]],\"sequentialminus\":[[0.0,\"#0d0887\"],[0.1111111111111111,\"#46039f\"],[0.2222222222222222,\"#7201a8\"],[0.3333333333333333,\"#9c179e\"],[0.4444444444444444,\"#bd3786\"],[0.5555555555555556,\"#d8576b\"],[0.6666666666666666,\"#ed7953\"],[0.7777777777777778,\"#fb9f3a\"],[0.8888888888888888,\"#fdca26\"],[1.0,\"#f0f921\"]],\"diverging\":[[0,\"#8e0152\"],[0.1,\"#c51b7d\"],[0.2,\"#de77ae\"],[0.3,\"#f1b6da\"],[0.4,\"#fde0ef\"],[0.5,\"#f7f7f7\"],[0.6,\"#e6f5d0\"],[0.7,\"#b8e186\"],[0.8,\"#7fbc41\"],[0.9,\"#4d9221\"],[1,\"#276419\"]]},\"xaxis\":{\"gridcolor\":\"white\",\"linecolor\":\"white\",\"ticks\":\"\",\"title\":{\"standoff\":15},\"zerolinecolor\":\"white\",\"automargin\":true,\"zerolinewidth\":2},\"yaxis\":{\"gridcolor\":\"white\",\"linecolor\":\"white\",\"ticks\":\"\",\"title\":{\"standoff\":15},\"zerolinecolor\":\"white\",\"automargin\":true,\"zerolinewidth\":2},\"scene\":{\"xaxis\":{\"backgroundcolor\":\"#E5ECF6\",\"gridcolor\":\"white\",\"linecolor\":\"white\",\"showbackground\":true,\"ticks\":\"\",\"zerolinecolor\":\"white\",\"gridwidth\":2},\"yaxis\":{\"backgroundcolor\":\"#E5ECF6\",\"gridcolor\":\"white\",\"linecolor\":\"white\",\"showbackground\":true,\"ticks\":\"\",\"zerolinecolor\":\"white\",\"gridwidth\":2},\"zaxis\":{\"backgroundcolor\":\"#E5ECF6\",\"gridcolor\":\"white\",\"linecolor\":\"white\",\"showbackground\":true,\"ticks\":\"\",\"zerolinecolor\":\"white\",\"gridwidth\":2}},\"shapedefaults\":{\"line\":{\"color\":\"#2a3f5f\"}},\"annotationdefaults\":{\"arrowcolor\":\"#2a3f5f\",\"arrowhead\":0,\"arrowwidth\":1},\"geo\":{\"bgcolor\":\"white\",\"landcolor\":\"#E5ECF6\",\"subunitcolor\":\"white\",\"showland\":true,\"showlakes\":true,\"lakecolor\":\"white\"},\"title\":{\"x\":0.05},\"mapbox\":{\"style\":\"light\"}}},\"updatemenus\":[{\"buttons\":[{\"args\":[\"type\",\"scatter\"],\"label\":\"Scatter Plot\",\"method\":\"restyle\"},{\"args\":[\"type\",\"bar\"],\"label\":\"Bar Chart\",\"method\":\"restyle\"}],\"direction\":\"left\",\"type\":\"buttons\"}]},                        {\"responsive\": true}                    ).then(function(){\n",
       "                            \n",
       "var gd = document.getElementById('7d789f27-06d7-4efb-ab1a-5b2352f93755');\n",
       "var x = new MutationObserver(function (mutations, observer) {{\n",
       "        var display = window.getComputedStyle(gd).display;\n",
       "        if (!display || display === 'none') {{\n",
       "            console.log([gd, 'removed!']);\n",
       "            Plotly.purge(gd);\n",
       "            observer.disconnect();\n",
       "        }}\n",
       "}});\n",
       "\n",
       "// Listen for the removal of the full notebook cells\n",
       "var notebookContainer = gd.closest('#notebook-container');\n",
       "if (notebookContainer) {{\n",
       "    x.observe(notebookContainer, {childList: true});\n",
       "}}\n",
       "\n",
       "// Listen for the clearing of the current output cell\n",
       "var outputEl = gd.closest('.output');\n",
       "if (outputEl) {{\n",
       "    x.observe(outputEl, {childList: true});\n",
       "}}\n",
       "\n",
       "                        })                };                });            </script>        </div>"
      ]
     },
     "metadata": {},
     "output_type": "display_data"
    }
   ],
   "source": [
    "import plotly.graph_objects as px\n",
    "import pandas as pd\n",
    "\n",
    "# reading the database\n",
    "data = pd.read_csv(\"boston.csv\")\n",
    "\n",
    "\n",
    "plot = px.Figure(data=[px.Scatter(\n",
    "\tx=data['age'],\n",
    "\ty=data['tax'],\n",
    "\tmode='markers',)\n",
    "])\n",
    "\n",
    "# Add dropdown\n",
    "plot.update_layout(\n",
    "\tupdatemenus=[\n",
    "\t\tdict(\n",
    "\t\t\ttype=\"buttons\",\n",
    "\t\t\tdirection=\"left\",\n",
    "\t\t\tbuttons=list([\n",
    "\t\t\t\tdict(\n",
    "\t\t\t\t\targs=[\"type\", \"scatter\"],\n",
    "\t\t\t\t\tlabel=\"Scatter Plot\",\n",
    "\t\t\t\t\tmethod=\"restyle\"\n",
    "\t\t\t\t),\n",
    "\t\t\t\tdict(\n",
    "\t\t\t\t\targs=[\"type\", \"bar\"],\n",
    "\t\t\t\t\tlabel=\"Bar Chart\",\n",
    "\t\t\t\t\tmethod=\"restyle\"\n",
    "\t\t\t\t)\n",
    "\t\t\t]),\n",
    "\t\t),\n",
    "\t]\n",
    ")\n",
    "\n",
    "plot.show()\n"
   ]
  }
 ],
 "metadata": {
  "kernelspec": {
   "display_name": "Python 3 (ipykernel)",
   "language": "python",
   "name": "python3"
  },
  "language_info": {
   "codemirror_mode": {
    "name": "ipython",
    "version": 3
   },
   "file_extension": ".py",
   "mimetype": "text/x-python",
   "name": "python",
   "nbconvert_exporter": "python",
   "pygments_lexer": "ipython3",
   "version": "3.11.4"
  }
 },
 "nbformat": 4,
 "nbformat_minor": 5
}
